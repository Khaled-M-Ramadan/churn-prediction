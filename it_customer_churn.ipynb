{
 "cells": [
  {
   "cell_type": "code",
   "execution_count": 1,
   "id": "e8cb5f8b",
   "metadata": {},
   "outputs": [],
   "source": [
    "import pandas as pd\n",
    "import sklearn\n",
    "from sklearn.linear_model import LogisticRegression\n",
    "from sklearn.metrics import accuracy_score , precision_score ,recall_score, roc_auc_score ,f1_score\n",
    "import numpy as np\n",
    "import matplotlib.pyplot as plt\n",
    "import seaborn as sns\n"
   ]
  },
  {
   "cell_type": "code",
   "execution_count": 2,
   "id": "6e3f904e",
   "metadata": {},
   "outputs": [
    {
     "data": {
      "application/vnd.microsoft.datawrangler.viewer.v0+json": {
       "columns": [
        {
         "name": "index",
         "rawType": "int64",
         "type": "integer"
        },
        {
         "name": "gender",
         "rawType": "object",
         "type": "string"
        },
        {
         "name": "SeniorCitizen",
         "rawType": "int64",
         "type": "integer"
        },
        {
         "name": "Partner",
         "rawType": "object",
         "type": "string"
        },
        {
         "name": "Dependents",
         "rawType": "object",
         "type": "string"
        },
        {
         "name": "tenure",
         "rawType": "int64",
         "type": "integer"
        },
        {
         "name": "PhoneService",
         "rawType": "object",
         "type": "string"
        },
        {
         "name": "MultipleLines",
         "rawType": "object",
         "type": "string"
        },
        {
         "name": "InternetService",
         "rawType": "object",
         "type": "string"
        },
        {
         "name": "OnlineSecurity",
         "rawType": "object",
         "type": "string"
        },
        {
         "name": "OnlineBackup",
         "rawType": "object",
         "type": "string"
        },
        {
         "name": "DeviceProtection",
         "rawType": "object",
         "type": "string"
        },
        {
         "name": "TechSupport",
         "rawType": "object",
         "type": "string"
        },
        {
         "name": "StreamingTV",
         "rawType": "object",
         "type": "string"
        },
        {
         "name": "StreamingMovies",
         "rawType": "object",
         "type": "string"
        },
        {
         "name": "Contract",
         "rawType": "object",
         "type": "string"
        },
        {
         "name": "PaperlessBilling",
         "rawType": "object",
         "type": "string"
        },
        {
         "name": "PaymentMethod",
         "rawType": "object",
         "type": "string"
        },
        {
         "name": "MonthlyCharges",
         "rawType": "float64",
         "type": "float"
        },
        {
         "name": "TotalCharges",
         "rawType": "object",
         "type": "string"
        },
        {
         "name": "Churn",
         "rawType": "object",
         "type": "string"
        }
       ],
       "ref": "96193259-f2cc-46ac-bb32-3b9ae850e4f5",
       "rows": [
        [
         "0",
         "Female",
         "0",
         "Yes",
         "No",
         "1",
         "No",
         "No phone service",
         "DSL",
         "No",
         "Yes",
         "No",
         "No",
         "No",
         "No",
         "Month-to-month",
         "Yes",
         "Electronic check",
         "29.85",
         "29.85",
         "No"
        ],
        [
         "1",
         "Male",
         "0",
         "No",
         "No",
         "34",
         "Yes",
         "No",
         "DSL",
         "Yes",
         "No",
         "Yes",
         "No",
         "No",
         "No",
         "One year",
         "No",
         "Mailed check",
         "56.95",
         "1889.5",
         "No"
        ],
        [
         "2",
         "Male",
         "0",
         "No",
         "No",
         "2",
         "Yes",
         "No",
         "DSL",
         "Yes",
         "Yes",
         "No",
         "No",
         "No",
         "No",
         "Month-to-month",
         "Yes",
         "Mailed check",
         "53.85",
         "108.15",
         "Yes"
        ],
        [
         "3",
         "Male",
         "0",
         "No",
         "No",
         "45",
         "No",
         "No phone service",
         "DSL",
         "Yes",
         "No",
         "Yes",
         "Yes",
         "No",
         "No",
         "One year",
         "No",
         "Bank transfer (automatic)",
         "42.3",
         "1840.75",
         "No"
        ],
        [
         "4",
         "Female",
         "0",
         "No",
         "No",
         "2",
         "Yes",
         "No",
         "Fiber optic",
         "No",
         "No",
         "No",
         "No",
         "No",
         "No",
         "Month-to-month",
         "Yes",
         "Electronic check",
         "70.7",
         "151.65",
         "Yes"
        ]
       ],
       "shape": {
        "columns": 20,
        "rows": 5
       }
      },
      "text/html": [
       "<div>\n",
       "<style scoped>\n",
       "    .dataframe tbody tr th:only-of-type {\n",
       "        vertical-align: middle;\n",
       "    }\n",
       "\n",
       "    .dataframe tbody tr th {\n",
       "        vertical-align: top;\n",
       "    }\n",
       "\n",
       "    .dataframe thead th {\n",
       "        text-align: right;\n",
       "    }\n",
       "</style>\n",
       "<table border=\"1\" class=\"dataframe\">\n",
       "  <thead>\n",
       "    <tr style=\"text-align: right;\">\n",
       "      <th></th>\n",
       "      <th>gender</th>\n",
       "      <th>SeniorCitizen</th>\n",
       "      <th>Partner</th>\n",
       "      <th>Dependents</th>\n",
       "      <th>tenure</th>\n",
       "      <th>PhoneService</th>\n",
       "      <th>MultipleLines</th>\n",
       "      <th>InternetService</th>\n",
       "      <th>OnlineSecurity</th>\n",
       "      <th>OnlineBackup</th>\n",
       "      <th>DeviceProtection</th>\n",
       "      <th>TechSupport</th>\n",
       "      <th>StreamingTV</th>\n",
       "      <th>StreamingMovies</th>\n",
       "      <th>Contract</th>\n",
       "      <th>PaperlessBilling</th>\n",
       "      <th>PaymentMethod</th>\n",
       "      <th>MonthlyCharges</th>\n",
       "      <th>TotalCharges</th>\n",
       "      <th>Churn</th>\n",
       "    </tr>\n",
       "  </thead>\n",
       "  <tbody>\n",
       "    <tr>\n",
       "      <th>0</th>\n",
       "      <td>Female</td>\n",
       "      <td>0</td>\n",
       "      <td>Yes</td>\n",
       "      <td>No</td>\n",
       "      <td>1</td>\n",
       "      <td>No</td>\n",
       "      <td>No phone service</td>\n",
       "      <td>DSL</td>\n",
       "      <td>No</td>\n",
       "      <td>Yes</td>\n",
       "      <td>No</td>\n",
       "      <td>No</td>\n",
       "      <td>No</td>\n",
       "      <td>No</td>\n",
       "      <td>Month-to-month</td>\n",
       "      <td>Yes</td>\n",
       "      <td>Electronic check</td>\n",
       "      <td>29.85</td>\n",
       "      <td>29.85</td>\n",
       "      <td>No</td>\n",
       "    </tr>\n",
       "    <tr>\n",
       "      <th>1</th>\n",
       "      <td>Male</td>\n",
       "      <td>0</td>\n",
       "      <td>No</td>\n",
       "      <td>No</td>\n",
       "      <td>34</td>\n",
       "      <td>Yes</td>\n",
       "      <td>No</td>\n",
       "      <td>DSL</td>\n",
       "      <td>Yes</td>\n",
       "      <td>No</td>\n",
       "      <td>Yes</td>\n",
       "      <td>No</td>\n",
       "      <td>No</td>\n",
       "      <td>No</td>\n",
       "      <td>One year</td>\n",
       "      <td>No</td>\n",
       "      <td>Mailed check</td>\n",
       "      <td>56.95</td>\n",
       "      <td>1889.5</td>\n",
       "      <td>No</td>\n",
       "    </tr>\n",
       "    <tr>\n",
       "      <th>2</th>\n",
       "      <td>Male</td>\n",
       "      <td>0</td>\n",
       "      <td>No</td>\n",
       "      <td>No</td>\n",
       "      <td>2</td>\n",
       "      <td>Yes</td>\n",
       "      <td>No</td>\n",
       "      <td>DSL</td>\n",
       "      <td>Yes</td>\n",
       "      <td>Yes</td>\n",
       "      <td>No</td>\n",
       "      <td>No</td>\n",
       "      <td>No</td>\n",
       "      <td>No</td>\n",
       "      <td>Month-to-month</td>\n",
       "      <td>Yes</td>\n",
       "      <td>Mailed check</td>\n",
       "      <td>53.85</td>\n",
       "      <td>108.15</td>\n",
       "      <td>Yes</td>\n",
       "    </tr>\n",
       "    <tr>\n",
       "      <th>3</th>\n",
       "      <td>Male</td>\n",
       "      <td>0</td>\n",
       "      <td>No</td>\n",
       "      <td>No</td>\n",
       "      <td>45</td>\n",
       "      <td>No</td>\n",
       "      <td>No phone service</td>\n",
       "      <td>DSL</td>\n",
       "      <td>Yes</td>\n",
       "      <td>No</td>\n",
       "      <td>Yes</td>\n",
       "      <td>Yes</td>\n",
       "      <td>No</td>\n",
       "      <td>No</td>\n",
       "      <td>One year</td>\n",
       "      <td>No</td>\n",
       "      <td>Bank transfer (automatic)</td>\n",
       "      <td>42.30</td>\n",
       "      <td>1840.75</td>\n",
       "      <td>No</td>\n",
       "    </tr>\n",
       "    <tr>\n",
       "      <th>4</th>\n",
       "      <td>Female</td>\n",
       "      <td>0</td>\n",
       "      <td>No</td>\n",
       "      <td>No</td>\n",
       "      <td>2</td>\n",
       "      <td>Yes</td>\n",
       "      <td>No</td>\n",
       "      <td>Fiber optic</td>\n",
       "      <td>No</td>\n",
       "      <td>No</td>\n",
       "      <td>No</td>\n",
       "      <td>No</td>\n",
       "      <td>No</td>\n",
       "      <td>No</td>\n",
       "      <td>Month-to-month</td>\n",
       "      <td>Yes</td>\n",
       "      <td>Electronic check</td>\n",
       "      <td>70.70</td>\n",
       "      <td>151.65</td>\n",
       "      <td>Yes</td>\n",
       "    </tr>\n",
       "  </tbody>\n",
       "</table>\n",
       "</div>"
      ],
      "text/plain": [
       "   gender  SeniorCitizen Partner Dependents  tenure PhoneService  \\\n",
       "0  Female              0     Yes         No       1           No   \n",
       "1    Male              0      No         No      34          Yes   \n",
       "2    Male              0      No         No       2          Yes   \n",
       "3    Male              0      No         No      45           No   \n",
       "4  Female              0      No         No       2          Yes   \n",
       "\n",
       "      MultipleLines InternetService OnlineSecurity OnlineBackup  \\\n",
       "0  No phone service             DSL             No          Yes   \n",
       "1                No             DSL            Yes           No   \n",
       "2                No             DSL            Yes          Yes   \n",
       "3  No phone service             DSL            Yes           No   \n",
       "4                No     Fiber optic             No           No   \n",
       "\n",
       "  DeviceProtection TechSupport StreamingTV StreamingMovies        Contract  \\\n",
       "0               No          No          No              No  Month-to-month   \n",
       "1              Yes          No          No              No        One year   \n",
       "2               No          No          No              No  Month-to-month   \n",
       "3              Yes         Yes          No              No        One year   \n",
       "4               No          No          No              No  Month-to-month   \n",
       "\n",
       "  PaperlessBilling              PaymentMethod  MonthlyCharges TotalCharges  \\\n",
       "0              Yes           Electronic check           29.85        29.85   \n",
       "1               No               Mailed check           56.95       1889.5   \n",
       "2              Yes               Mailed check           53.85       108.15   \n",
       "3               No  Bank transfer (automatic)           42.30      1840.75   \n",
       "4              Yes           Electronic check           70.70       151.65   \n",
       "\n",
       "  Churn  \n",
       "0    No  \n",
       "1    No  \n",
       "2   Yes  \n",
       "3    No  \n",
       "4   Yes  "
      ]
     },
     "execution_count": 2,
     "metadata": {},
     "output_type": "execute_result"
    }
   ],
   "source": [
    "df_it=pd.read_csv(\"IT_customer_churn.csv\")\n",
    "df_it.head()"
   ]
  },
  {
   "cell_type": "code",
   "execution_count": 3,
   "id": "df30eee0",
   "metadata": {},
   "outputs": [
    {
     "name": "stdout",
     "output_type": "stream",
     "text": [
      "<class 'pandas.core.frame.DataFrame'>\n",
      "RangeIndex: 7043 entries, 0 to 7042\n",
      "Data columns (total 20 columns):\n",
      " #   Column            Non-Null Count  Dtype  \n",
      "---  ------            --------------  -----  \n",
      " 0   gender            7043 non-null   object \n",
      " 1   SeniorCitizen     7043 non-null   int64  \n",
      " 2   Partner           7043 non-null   object \n",
      " 3   Dependents        7043 non-null   object \n",
      " 4   tenure            7043 non-null   int64  \n",
      " 5   PhoneService      7043 non-null   object \n",
      " 6   MultipleLines     7043 non-null   object \n",
      " 7   InternetService   7043 non-null   object \n",
      " 8   OnlineSecurity    7043 non-null   object \n",
      " 9   OnlineBackup      7043 non-null   object \n",
      " 10  DeviceProtection  7043 non-null   object \n",
      " 11  TechSupport       7043 non-null   object \n",
      " 12  StreamingTV       7043 non-null   object \n",
      " 13  StreamingMovies   7043 non-null   object \n",
      " 14  Contract          7043 non-null   object \n",
      " 15  PaperlessBilling  7043 non-null   object \n",
      " 16  PaymentMethod     7043 non-null   object \n",
      " 17  MonthlyCharges    7043 non-null   float64\n",
      " 18  TotalCharges      7043 non-null   object \n",
      " 19  Churn             7043 non-null   object \n",
      "dtypes: float64(1), int64(2), object(17)\n",
      "memory usage: 1.1+ MB\n"
     ]
    }
   ],
   "source": [
    "df_it.info()"
   ]
  },
  {
   "cell_type": "code",
   "execution_count": 4,
   "id": "62880685",
   "metadata": {},
   "outputs": [],
   "source": [
    "dfcopy=df_it.copy()"
   ]
  },
  {
   "cell_type": "code",
   "execution_count": 5,
   "id": "ed905f01",
   "metadata": {},
   "outputs": [
    {
     "data": {
      "text/plain": [
       "np.int64(22)"
      ]
     },
     "execution_count": 5,
     "metadata": {},
     "output_type": "execute_result"
    }
   ],
   "source": [
    "df_it.duplicated().sum()"
   ]
  },
  {
   "cell_type": "code",
   "execution_count": 6,
   "id": "992af96c",
   "metadata": {},
   "outputs": [],
   "source": [
    "df_it=df_it.drop_duplicates()"
   ]
  },
  {
   "cell_type": "code",
   "execution_count": 7,
   "id": "d906deb1",
   "metadata": {},
   "outputs": [
    {
     "data": {
      "application/vnd.microsoft.datawrangler.viewer.v0+json": {
       "columns": [
        {
         "name": "index",
         "rawType": "object",
         "type": "string"
        },
        {
         "name": "0",
         "rawType": "int64",
         "type": "integer"
        }
       ],
       "ref": "5bcde6ac-5278-4017-9f8d-aa9c6f44fdd7",
       "rows": [
        [
         "gender",
         "0"
        ],
        [
         "SeniorCitizen",
         "0"
        ],
        [
         "Partner",
         "0"
        ],
        [
         "Dependents",
         "0"
        ],
        [
         "tenure",
         "0"
        ],
        [
         "PhoneService",
         "0"
        ],
        [
         "MultipleLines",
         "0"
        ],
        [
         "InternetService",
         "0"
        ],
        [
         "OnlineSecurity",
         "0"
        ],
        [
         "OnlineBackup",
         "0"
        ],
        [
         "DeviceProtection",
         "0"
        ],
        [
         "TechSupport",
         "0"
        ],
        [
         "StreamingTV",
         "0"
        ],
        [
         "StreamingMovies",
         "0"
        ],
        [
         "Contract",
         "0"
        ],
        [
         "PaperlessBilling",
         "0"
        ],
        [
         "PaymentMethod",
         "0"
        ],
        [
         "MonthlyCharges",
         "0"
        ],
        [
         "TotalCharges",
         "0"
        ],
        [
         "Churn",
         "0"
        ]
       ],
       "shape": {
        "columns": 1,
        "rows": 20
       }
      },
      "text/plain": [
       "gender              0\n",
       "SeniorCitizen       0\n",
       "Partner             0\n",
       "Dependents          0\n",
       "tenure              0\n",
       "PhoneService        0\n",
       "MultipleLines       0\n",
       "InternetService     0\n",
       "OnlineSecurity      0\n",
       "OnlineBackup        0\n",
       "DeviceProtection    0\n",
       "TechSupport         0\n",
       "StreamingTV         0\n",
       "StreamingMovies     0\n",
       "Contract            0\n",
       "PaperlessBilling    0\n",
       "PaymentMethod       0\n",
       "MonthlyCharges      0\n",
       "TotalCharges        0\n",
       "Churn               0\n",
       "dtype: int64"
      ]
     },
     "execution_count": 7,
     "metadata": {},
     "output_type": "execute_result"
    }
   ],
   "source": [
    "df_it.isnull().sum()"
   ]
  },
  {
   "cell_type": "code",
   "execution_count": 8,
   "id": "659d1514",
   "metadata": {},
   "outputs": [],
   "source": [
    "df_it['TotalCharges'] = pd.to_numeric(df_it['TotalCharges'], errors='coerce')"
   ]
  },
  {
   "cell_type": "code",
   "execution_count": 9,
   "id": "0500fb3f",
   "metadata": {},
   "outputs": [
    {
     "name": "stdout",
     "output_type": "stream",
     "text": [
      "[0]\n"
     ]
    }
   ],
   "source": [
    "missing_total_charges_rows = df_it[df_it['TotalCharges'].isnull()]\n",
    "print(missing_total_charges_rows['tenure'].unique())"
   ]
  },
  {
   "cell_type": "code",
   "execution_count": 10,
   "id": "64a47cc3",
   "metadata": {},
   "outputs": [
    {
     "name": "stderr",
     "output_type": "stream",
     "text": [
      "C:\\Users\\2021\\AppData\\Local\\Temp\\ipykernel_36772\\1775909794.py:1: FutureWarning: A value is trying to be set on a copy of a DataFrame or Series through chained assignment using an inplace method.\n",
      "The behavior will change in pandas 3.0. This inplace method will never work because the intermediate object on which we are setting values always behaves as a copy.\n",
      "\n",
      "For example, when doing 'df[col].method(value, inplace=True)', try using 'df.method({col: value}, inplace=True)' or df[col] = df[col].method(value) instead, to perform the operation inplace on the original object.\n",
      "\n",
      "\n",
      "  df_it['TotalCharges'].fillna(0, inplace=True)\n"
     ]
    },
    {
     "data": {
      "application/vnd.microsoft.datawrangler.viewer.v0+json": {
       "columns": [
        {
         "name": "index",
         "rawType": "object",
         "type": "string"
        },
        {
         "name": "0",
         "rawType": "int64",
         "type": "integer"
        }
       ],
       "ref": "00a1497b-1858-48a8-8575-9c45448d1de9",
       "rows": [
        [
         "gender",
         "0"
        ],
        [
         "SeniorCitizen",
         "0"
        ],
        [
         "Partner",
         "0"
        ],
        [
         "Dependents",
         "0"
        ],
        [
         "tenure",
         "0"
        ],
        [
         "PhoneService",
         "0"
        ],
        [
         "MultipleLines",
         "0"
        ],
        [
         "InternetService",
         "0"
        ],
        [
         "OnlineSecurity",
         "0"
        ],
        [
         "OnlineBackup",
         "0"
        ],
        [
         "DeviceProtection",
         "0"
        ],
        [
         "TechSupport",
         "0"
        ],
        [
         "StreamingTV",
         "0"
        ],
        [
         "StreamingMovies",
         "0"
        ],
        [
         "Contract",
         "0"
        ],
        [
         "PaperlessBilling",
         "0"
        ],
        [
         "PaymentMethod",
         "0"
        ],
        [
         "MonthlyCharges",
         "0"
        ],
        [
         "TotalCharges",
         "0"
        ],
        [
         "Churn",
         "0"
        ]
       ],
       "shape": {
        "columns": 1,
        "rows": 20
       }
      },
      "text/plain": [
       "gender              0\n",
       "SeniorCitizen       0\n",
       "Partner             0\n",
       "Dependents          0\n",
       "tenure              0\n",
       "PhoneService        0\n",
       "MultipleLines       0\n",
       "InternetService     0\n",
       "OnlineSecurity      0\n",
       "OnlineBackup        0\n",
       "DeviceProtection    0\n",
       "TechSupport         0\n",
       "StreamingTV         0\n",
       "StreamingMovies     0\n",
       "Contract            0\n",
       "PaperlessBilling    0\n",
       "PaymentMethod       0\n",
       "MonthlyCharges      0\n",
       "TotalCharges        0\n",
       "Churn               0\n",
       "dtype: int64"
      ]
     },
     "execution_count": 10,
     "metadata": {},
     "output_type": "execute_result"
    }
   ],
   "source": [
    "df_it['TotalCharges'].fillna(0, inplace=True)\n",
    "df_it.isnull().sum()"
   ]
  },
  {
   "cell_type": "code",
   "execution_count": 11,
   "id": "8289ac2e",
   "metadata": {},
   "outputs": [
    {
     "data": {
      "application/vnd.microsoft.datawrangler.viewer.v0+json": {
       "columns": [
        {
         "name": "index",
         "rawType": "object",
         "type": "string"
        },
        {
         "name": "SeniorCitizen",
         "rawType": "float64",
         "type": "float"
        },
        {
         "name": "tenure",
         "rawType": "float64",
         "type": "float"
        },
        {
         "name": "MonthlyCharges",
         "rawType": "float64",
         "type": "float"
        },
        {
         "name": "TotalCharges",
         "rawType": "float64",
         "type": "float"
        }
       ],
       "ref": "c61a23e7-72f3-4de1-b51e-a3fdf4ca6d01",
       "rows": [
        [
         "count",
         "7021.0",
         "7021.0",
         "7021.0",
         "7021.0"
        ],
        [
         "mean",
         "0.1625124626121635",
         "32.46944879646774",
         "64.85189431704886",
         "2286.765026349523"
        ],
        [
         "std",
         "0.36894654068072474",
         "24.53496457545687",
         "30.069000953612903",
         "2266.8550566867552"
        ],
        [
         "min",
         "0.0",
         "0.0",
         "18.25",
         "0.0"
        ],
        [
         "25%",
         "0.0",
         "9.0",
         "35.75",
         "403.35"
        ],
        [
         "50%",
         "0.0",
         "29.0",
         "70.4",
         "1400.55"
        ],
        [
         "75%",
         "0.0",
         "55.0",
         "89.9",
         "3801.7"
        ],
        [
         "max",
         "1.0",
         "72.0",
         "118.75",
         "8684.8"
        ]
       ],
       "shape": {
        "columns": 4,
        "rows": 8
       }
      },
      "text/html": [
       "<div>\n",
       "<style scoped>\n",
       "    .dataframe tbody tr th:only-of-type {\n",
       "        vertical-align: middle;\n",
       "    }\n",
       "\n",
       "    .dataframe tbody tr th {\n",
       "        vertical-align: top;\n",
       "    }\n",
       "\n",
       "    .dataframe thead th {\n",
       "        text-align: right;\n",
       "    }\n",
       "</style>\n",
       "<table border=\"1\" class=\"dataframe\">\n",
       "  <thead>\n",
       "    <tr style=\"text-align: right;\">\n",
       "      <th></th>\n",
       "      <th>SeniorCitizen</th>\n",
       "      <th>tenure</th>\n",
       "      <th>MonthlyCharges</th>\n",
       "      <th>TotalCharges</th>\n",
       "    </tr>\n",
       "  </thead>\n",
       "  <tbody>\n",
       "    <tr>\n",
       "      <th>count</th>\n",
       "      <td>7021.000000</td>\n",
       "      <td>7021.000000</td>\n",
       "      <td>7021.000000</td>\n",
       "      <td>7021.000000</td>\n",
       "    </tr>\n",
       "    <tr>\n",
       "      <th>mean</th>\n",
       "      <td>0.162512</td>\n",
       "      <td>32.469449</td>\n",
       "      <td>64.851894</td>\n",
       "      <td>2286.765026</td>\n",
       "    </tr>\n",
       "    <tr>\n",
       "      <th>std</th>\n",
       "      <td>0.368947</td>\n",
       "      <td>24.534965</td>\n",
       "      <td>30.069001</td>\n",
       "      <td>2266.855057</td>\n",
       "    </tr>\n",
       "    <tr>\n",
       "      <th>min</th>\n",
       "      <td>0.000000</td>\n",
       "      <td>0.000000</td>\n",
       "      <td>18.250000</td>\n",
       "      <td>0.000000</td>\n",
       "    </tr>\n",
       "    <tr>\n",
       "      <th>25%</th>\n",
       "      <td>0.000000</td>\n",
       "      <td>9.000000</td>\n",
       "      <td>35.750000</td>\n",
       "      <td>403.350000</td>\n",
       "    </tr>\n",
       "    <tr>\n",
       "      <th>50%</th>\n",
       "      <td>0.000000</td>\n",
       "      <td>29.000000</td>\n",
       "      <td>70.400000</td>\n",
       "      <td>1400.550000</td>\n",
       "    </tr>\n",
       "    <tr>\n",
       "      <th>75%</th>\n",
       "      <td>0.000000</td>\n",
       "      <td>55.000000</td>\n",
       "      <td>89.900000</td>\n",
       "      <td>3801.700000</td>\n",
       "    </tr>\n",
       "    <tr>\n",
       "      <th>max</th>\n",
       "      <td>1.000000</td>\n",
       "      <td>72.000000</td>\n",
       "      <td>118.750000</td>\n",
       "      <td>8684.800000</td>\n",
       "    </tr>\n",
       "  </tbody>\n",
       "</table>\n",
       "</div>"
      ],
      "text/plain": [
       "       SeniorCitizen       tenure  MonthlyCharges  TotalCharges\n",
       "count    7021.000000  7021.000000     7021.000000   7021.000000\n",
       "mean        0.162512    32.469449       64.851894   2286.765026\n",
       "std         0.368947    24.534965       30.069001   2266.855057\n",
       "min         0.000000     0.000000       18.250000      0.000000\n",
       "25%         0.000000     9.000000       35.750000    403.350000\n",
       "50%         0.000000    29.000000       70.400000   1400.550000\n",
       "75%         0.000000    55.000000       89.900000   3801.700000\n",
       "max         1.000000    72.000000      118.750000   8684.800000"
      ]
     },
     "execution_count": 11,
     "metadata": {},
     "output_type": "execute_result"
    }
   ],
   "source": [
    "df_it.describe()"
   ]
  },
  {
   "cell_type": "code",
   "execution_count": 12,
   "id": "b0633338",
   "metadata": {},
   "outputs": [
    {
     "data": {
      "image/png": "[encoded data removed]",
      "text/plain": [
       "<Figure size 1500x1000 with 3 Axes>"
      ]
     },
     "metadata": {},
     "output_type": "display_data"
    }
   ],
   "source": [
    "plt.figure(figsize=(15, 10))\n",
    "plt.subplot(1,3,1)\n",
    "sns.boxplot(y=df_it['tenure'])\n",
    "plt.title('Box Plot of Tenure')\n",
    "plt.ylabel('Tenure (Months)')\n",
    "plt.subplot(1,3,2)\n",
    "sns.boxplot(y=df_it['MonthlyCharges'])\n",
    "plt.title('Box Plot of MonthlyCharges')\n",
    "plt.ylabel('Monthly Charges')\n",
    "plt.subplot(1,3,3)\n",
    "sns.boxplot(y=df_it['TotalCharges'])\n",
    "plt.title('Box Plot of TotalCharges')\n",
    "plt.ylabel('Total Charges')\n",
    "plt.tight_layout()  \n",
    "plt.show()"
   ]
  },
  {
   "cell_type": "code",
   "execution_count": 13,
   "id": "8306c5e4",
   "metadata": {},
   "outputs": [
    {
     "data": {
      "application/vnd.microsoft.datawrangler.viewer.v0+json": {
       "columns": [
        {
         "name": "MultipleLines",
         "rawType": "object",
         "type": "string"
        },
        {
         "name": "count",
         "rawType": "int64",
         "type": "integer"
        }
       ],
       "ref": "b4521469-dbe6-4064-b41b-f46623c60a39",
       "rows": [
        [
         "No",
         "3368"
        ],
        [
         "Yes",
         "2971"
        ],
        [
         "No phone service",
         "682"
        ]
       ],
       "shape": {
        "columns": 1,
        "rows": 3
       }
      },
      "text/plain": [
       "MultipleLines\n",
       "No                  3368\n",
       "Yes                 2971\n",
       "No phone service     682\n",
       "Name: count, dtype: int64"
      ]
     },
     "execution_count": 13,
     "metadata": {},
     "output_type": "execute_result"
    }
   ],
   "source": [
    "df_it['MultipleLines'].value_counts()"
   ]
  },
  {
   "cell_type": "code",
   "execution_count": 14,
   "id": "c4341cc8",
   "metadata": {},
   "outputs": [
    {
     "name": "stdout",
     "output_type": "stream",
     "text": [
      "First 5 rows after encoding categorical variables (updated for MultipleLines):\n",
      "   gender  SeniorCitizen  Partner  Dependents  tenure  PhoneService  \\\n",
      "0       0              0        1           0       1             0   \n",
      "1       1              0        0           0      34             1   \n",
      "2       1              0        0           0       2             1   \n",
      "3       1              0        0           0      45             0   \n",
      "4       0              0        0           0       2             1   \n",
      "\n",
      "   PaperlessBilling  MonthlyCharges  TotalCharges  Churn  ...  \\\n",
      "0                 1           29.85         29.85      0  ...   \n",
      "1                 0           56.95       1889.50      0  ...   \n",
      "2                 1           53.85        108.15      1  ...   \n",
      "3                 0           42.30       1840.75      0  ...   \n",
      "4                 1           70.70        151.65      1  ...   \n",
      "\n",
      "   OnlineBackup_No internet service  OnlineBackup_Yes  \\\n",
      "0                                 0                 1   \n",
      "1                                 0                 0   \n",
      "2                                 0                 1   \n",
      "3                                 0                 0   \n",
      "4                                 0                 0   \n",
      "\n",
      "   DeviceProtection_No internet service  DeviceProtection_Yes  \\\n",
      "0                                     0                     0   \n",
      "1                                     0                     1   \n",
      "2                                     0                     0   \n",
      "3                                     0                     1   \n",
      "4                                     0                     0   \n",
      "\n",
      "   TechSupport_No internet service  TechSupport_Yes  \\\n",
      "0                                0                0   \n",
      "1                                0                0   \n",
      "2                                0                0   \n",
      "3                                0                1   \n",
      "4                                0                0   \n",
      "\n",
      "   StreamingTV_No internet service  StreamingTV_Yes  \\\n",
      "0                                0                0   \n",
      "1                                0                0   \n",
      "2                                0                0   \n",
      "3                                0                0   \n",
      "4                                0                0   \n",
      "\n",
      "   StreamingMovies_No internet service  StreamingMovies_Yes  \n",
      "0                                    0                    0  \n",
      "1                                    0                    0  \n",
      "2                                    0                    0  \n",
      "3                                    0                    0  \n",
      "4                                    0                    0  \n",
      "\n",
      "[5 rows x 31 columns]\n",
      "\n",
      "Data types after encoding categorical variables (updated for MultipleLines):\n",
      "gender                                     int64\n",
      "SeniorCitizen                              int64\n",
      "Partner                                    int64\n",
      "Dependents                                 int64\n",
      "tenure                                     int64\n",
      "PhoneService                               int64\n",
      "PaperlessBilling                           int64\n",
      "MonthlyCharges                           float64\n",
      "TotalCharges                             float64\n",
      "Churn                                      int64\n",
      "InternetService_Fiber optic                int64\n",
      "InternetService_No                         int64\n",
      "Contract_One year                          int64\n",
      "Contract_Two year                          int64\n",
      "PaymentMethod_Credit card (automatic)      int64\n",
      "PaymentMethod_Electronic check             int64\n",
      "PaymentMethod_Mailed check                 int64\n",
      "MultipleLines_No phone service             int64\n",
      "MultipleLines_Yes                          int64\n",
      "OnlineSecurity_No internet service         int64\n",
      "OnlineSecurity_Yes                         int64\n",
      "OnlineBackup_No internet service           int64\n",
      "OnlineBackup_Yes                           int64\n",
      "DeviceProtection_No internet service       int64\n",
      "DeviceProtection_Yes                       int64\n",
      "TechSupport_No internet service            int64\n",
      "TechSupport_Yes                            int64\n",
      "StreamingTV_No internet service            int64\n",
      "StreamingTV_Yes                            int64\n",
      "StreamingMovies_No internet service        int64\n",
      "StreamingMovies_Yes                        int64\n",
      "dtype: object\n"
     ]
    },
    {
     "name": "stderr",
     "output_type": "stream",
     "text": [
      "C:\\Users\\2021\\AppData\\Local\\Temp\\ipykernel_36772\\3244714727.py:4: FutureWarning: Downcasting behavior in `replace` is deprecated and will be removed in a future version. To retain the old behavior, explicitly call `result.infer_objects(copy=False)`. To opt-in to the future behavior, set `pd.set_option('future.no_silent_downcasting', True)`\n",
      "  df_it[col]=df_it[col].replace({'Yes': 1, 'No': 0}).astype(int)\n",
      "C:\\Users\\2021\\AppData\\Local\\Temp\\ipykernel_36772\\3244714727.py:4: FutureWarning: Downcasting behavior in `replace` is deprecated and will be removed in a future version. To retain the old behavior, explicitly call `result.infer_objects(copy=False)`. To opt-in to the future behavior, set `pd.set_option('future.no_silent_downcasting', True)`\n",
      "  df_it[col]=df_it[col].replace({'Yes': 1, 'No': 0}).astype(int)\n",
      "C:\\Users\\2021\\AppData\\Local\\Temp\\ipykernel_36772\\3244714727.py:4: FutureWarning: Downcasting behavior in `replace` is deprecated and will be removed in a future version. To retain the old behavior, explicitly call `result.infer_objects(copy=False)`. To opt-in to the future behavior, set `pd.set_option('future.no_silent_downcasting', True)`\n",
      "  df_it[col]=df_it[col].replace({'Yes': 1, 'No': 0}).astype(int)\n",
      "C:\\Users\\2021\\AppData\\Local\\Temp\\ipykernel_36772\\3244714727.py:4: FutureWarning: Downcasting behavior in `replace` is deprecated and will be removed in a future version. To retain the old behavior, explicitly call `result.infer_objects(copy=False)`. To opt-in to the future behavior, set `pd.set_option('future.no_silent_downcasting', True)`\n",
      "  df_it[col]=df_it[col].replace({'Yes': 1, 'No': 0}).astype(int)\n",
      "C:\\Users\\2021\\AppData\\Local\\Temp\\ipykernel_36772\\3244714727.py:6: FutureWarning: Downcasting behavior in `replace` is deprecated and will be removed in a future version. To retain the old behavior, explicitly call `result.infer_objects(copy=False)`. To opt-in to the future behavior, set `pd.set_option('future.no_silent_downcasting', True)`\n",
      "  df_it['gender'] = df_it['gender'].replace({'Female': 0, 'Male': 1}).astype(int)\n",
      "C:\\Users\\2021\\AppData\\Local\\Temp\\ipykernel_36772\\3244714727.py:7: FutureWarning: Downcasting behavior in `replace` is deprecated and will be removed in a future version. To retain the old behavior, explicitly call `result.infer_objects(copy=False)`. To opt-in to the future behavior, set `pd.set_option('future.no_silent_downcasting', True)`\n",
      "  df_it['Churn'] = df_it['Churn'].replace({'Yes': 1, 'No': 0}).astype(int)\n"
     ]
    }
   ],
   "source": [
    "# convert binary cols into 0,1 cols\n",
    "binary_cols = ['Partner', 'Dependents', 'PhoneService', 'PaperlessBilling']\n",
    "for col in binary_cols:\n",
    "    df_it[col]=df_it[col].replace({'Yes': 1, 'No': 0}).astype(int)\n",
    "\n",
    "df_it['gender'] = df_it['gender'].replace({'Female': 0, 'Male': 1}).astype(int)\n",
    "df_it['Churn'] = df_it['Churn'].replace({'Yes': 1, 'No': 0}).astype(int)\n",
    "\n",
    "categorical_cols_onehot = [\n",
    "    'InternetService',\n",
    "    'Contract',\n",
    "    'PaymentMethod',\n",
    "    'MultipleLines',\n",
    "    'OnlineSecurity',    \n",
    "    'OnlineBackup',      \n",
    "    'DeviceProtection',   \n",
    "    'TechSupport',       \n",
    "    'StreamingTV',       \n",
    "    'StreamingMovies'    \n",
    "]\n",
    "\n",
    "df_it = pd.get_dummies(df_it, columns=categorical_cols_onehot, drop_first=True, dtype=int)\n",
    "print(\"First 5 rows after encoding categorical variables (updated for MultipleLines):\")\n",
    "print(df_it.head())\n",
    "print(\"\\nData types after encoding categorical variables (updated for MultipleLines):\")\n",
    "print(df_it.dtypes)"
   ]
  },
  {
   "cell_type": "code",
   "execution_count": 15,
   "id": "8936b03d",
   "metadata": {},
   "outputs": [
    {
     "data": {
      "application/vnd.microsoft.datawrangler.viewer.v0+json": {
       "columns": [
        {
         "name": "('gender', 'SeniorCitizen', 'Partner', 'Dependents', 'tenure', 'PhoneService', 'MultipleLines', 'InternetService', 'OnlineSecurity', 'OnlineBackup', 'DeviceProtection', 'TechSupport', 'StreamingTV', 'StreamingMovies', 'Contract', 'PaperlessBilling', 'PaymentMethod', 'MonthlyCharges', 'TotalCharges', 'Churn')",
         "rawType": "object",
         "type": "unknown"
        },
        {
         "name": "count",
         "rawType": "int64",
         "type": "integer"
        }
       ],
       "ref": "1b93b989-deed-4898-83f5-d33a6b66c07b",
       "rows": [
        [
         "('Male', np.int64(0), 'No', 'No', np.int64(1), 'Yes', 'No', 'No', 'No internet service', 'No internet service', 'No internet service', 'No internet service', 'No internet service', 'No internet service', 'Month-to-month', 'No', 'Mailed check', np.float64(20.05), '20.05', 'No')",
         "3"
        ],
        [
         "('Male', np.int64(0), 'No', 'No', np.int64(1), 'Yes', 'No', 'No', 'No internet service', 'No internet service', 'No internet service', 'No internet service', 'No internet service', 'No internet service', 'Month-to-month', 'No', 'Mailed check', np.float64(20.2), '20.2', 'No')",
         "3"
        ],
        [
         "('Female', np.int64(0), 'No', 'No', np.int64(1), 'Yes', 'No', 'Fiber optic', 'No', 'No', 'No', 'No', 'No', 'No', 'Month-to-month', 'Yes', 'Electronic check', np.float64(70.1), '70.1', 'Yes')",
         "2"
        ],
        [
         "('Female', np.int64(0), 'No', 'No', np.int64(1), 'Yes', 'No', 'No', 'No internet service', 'No internet service', 'No internet service', 'No internet service', 'No internet service', 'No internet service', 'Month-to-month', 'No', 'Mailed check', np.float64(19.65), '19.65', 'No')",
         "2"
        ],
        [
         "('Female', np.int64(1), 'No', 'No', np.int64(1), 'Yes', 'No', 'Fiber optic', 'No', 'No', 'No', 'No', 'No', 'No', 'Month-to-month', 'Yes', 'Electronic check', np.float64(69.6), '69.6', 'Yes')",
         "2"
        ],
        [
         "('Male', np.int64(0), 'No', 'No', np.int64(1), 'Yes', 'No', 'DSL', 'No', 'No', 'No', 'No', 'No', 'No', 'Month-to-month', 'No', 'Electronic check', np.float64(45.3), '45.3', 'Yes')",
         "2"
        ],
        [
         "('Female', np.int64(0), 'No', 'No', np.int64(1), 'Yes', 'No', 'No', 'No internet service', 'No internet service', 'No internet service', 'No internet service', 'No internet service', 'No internet service', 'Month-to-month', 'No', 'Mailed check', np.float64(20.9), '20.9', 'Yes')",
         "2"
        ],
        [
         "('Female', np.int64(0), 'No', 'No', np.int64(1), 'Yes', 'No', 'No', 'No internet service', 'No internet service', 'No internet service', 'No internet service', 'No internet service', 'No internet service', 'Month-to-month', 'No', 'Mailed check', np.float64(19.9), '19.9', 'No')",
         "2"
        ],
        [
         "('Female', np.int64(0), 'No', 'No', np.int64(1), 'Yes', 'No', 'Fiber optic', 'No', 'No', 'No', 'No', 'No', 'No', 'Month-to-month', 'Yes', 'Electronic check', np.float64(69.2), '69.2', 'Yes')",
         "2"
        ],
        [
         "('Female', np.int64(0), 'No', 'No', np.int64(1), 'Yes', 'No', 'No', 'No internet service', 'No internet service', 'No internet service', 'No internet service', 'No internet service', 'No internet service', 'Month-to-month', 'No', 'Mailed check', np.float64(19.55), '19.55', 'No')",
         "2"
        ],
        [
         "('Female', np.int64(0), 'No', 'No', np.int64(1), 'Yes', 'No', 'Fiber optic', 'No', 'No', 'No', 'No', 'No', 'No', 'Month-to-month', 'Yes', 'Mailed check', np.float64(70.15), '70.15', 'Yes')",
         "2"
        ],
        [
         "('Male', np.int64(0), 'No', 'No', np.int64(1), 'Yes', 'No', 'DSL', 'No', 'No', 'No', 'No', 'No', 'No', 'Month-to-month', 'Yes', 'Mailed check', np.float64(45.7), '45.7', 'Yes')",
         "2"
        ],
        [
         "('Male', np.int64(0), 'No', 'No', np.int64(1), 'Yes', 'No', 'Fiber optic', 'No', 'No', 'No', 'No', 'No', 'No', 'Month-to-month', 'Yes', 'Electronic check', np.float64(69.35), '69.35', 'Yes')",
         "2"
        ],
        [
         "('Male', np.int64(0), 'No', 'No', np.int64(1), 'Yes', 'No', 'Fiber optic', 'No', 'No', 'No', 'No', 'No', 'No', 'Month-to-month', 'Yes', 'Electronic check', np.float64(69.9), '69.9', 'Yes')",
         "2"
        ],
        [
         "('Male', np.int64(0), 'No', 'No', np.int64(1), 'Yes', 'No', 'No', 'No internet service', 'No internet service', 'No internet service', 'No internet service', 'No internet service', 'No internet service', 'Month-to-month', 'No', 'Mailed check', np.float64(20.15), '20.15', 'Yes')",
         "2"
        ],
        [
         "('Male', np.int64(0), 'No', 'No', np.int64(1), 'Yes', 'No', 'No', 'No internet service', 'No internet service', 'No internet service', 'No internet service', 'No internet service', 'No internet service', 'Month-to-month', 'No', 'Mailed check', np.float64(20.3), '20.3', 'No')",
         "2"
        ],
        [
         "('Male', np.int64(0), 'No', 'No', np.int64(1), 'Yes', 'No', 'No', 'No internet service', 'No internet service', 'No internet service', 'No internet service', 'No internet service', 'No internet service', 'Month-to-month', 'No', 'Mailed check', np.float64(20.45), '20.45', 'No')",
         "2"
        ],
        [
         "('Male', np.int64(0), 'No', 'No', np.int64(1), 'Yes', 'No', 'No', 'No internet service', 'No internet service', 'No internet service', 'No internet service', 'No internet service', 'No internet service', 'Month-to-month', 'Yes', 'Mailed check', np.float64(20.1), '20.1', 'Yes')",
         "2"
        ],
        [
         "('Male', np.int64(0), 'No', 'No', np.int64(1), 'Yes', 'No', 'No', 'No internet service', 'No internet service', 'No internet service', 'No internet service', 'No internet service', 'No internet service', 'Month-to-month', 'Yes', 'Mailed check', np.float64(20.2), '20.2', 'Yes')",
         "2"
        ],
        [
         "('Male', np.int64(0), 'No', 'No', np.int64(1), 'Yes', 'No', 'No', 'No internet service', 'No internet service', 'No internet service', 'No internet service', 'No internet service', 'No internet service', 'Month-to-month', 'Yes', 'Mailed check', np.float64(20.45), '20.45', 'No')",
         "2"
        ],
        [
         "('Female', np.int64(0), 'No', 'No', np.int64(1), 'No', 'No phone service', 'DSL', 'No', 'No', 'No', 'No', 'No', 'No', 'Month-to-month', 'Yes', 'Mailed check', np.float64(25.1), '25.1', 'Yes')",
         "1"
        ],
        [
         "('Female', np.int64(0), 'No', 'No', np.int64(1), 'No', 'No phone service', 'DSL', 'No', 'No', 'No', 'No', 'No', 'No', 'Month-to-month', 'Yes', 'Mailed check', np.float64(25.15), '25.15', 'No')",
         "1"
        ],
        [
         "('Female', np.int64(0), 'No', 'No', np.int64(1), 'No', 'No phone service', 'DSL', 'No', 'No', 'Yes', 'Yes', 'No', 'No', 'Month-to-month', 'No', 'Mailed check', np.float64(35.9), '35.9', 'No')",
         "1"
        ],
        [
         "('Female', np.int64(0), 'No', 'No', np.int64(1), 'No', 'No phone service', 'DSL', 'No', 'Yes', 'No', 'No', 'No', 'No', 'Month-to-month', 'No', 'Bank transfer (automatic)', np.float64(29.95), '29.95', 'Yes')",
         "1"
        ],
        [
         "('Female', np.int64(0), 'No', 'No', np.int64(1), 'No', 'No phone service', 'DSL', 'Yes', 'No', 'No', 'No', 'No', 'No', 'Month-to-month', 'No', 'Mailed check', np.float64(29.9), '29.9', 'No')",
         "1"
        ],
        [
         "('Female', np.int64(0), 'No', 'No', np.int64(1), 'Yes', 'No', 'DSL', 'No', 'No', 'No', 'No', 'No', 'No', 'Month-to-month', 'No', 'Bank transfer (automatic)', np.float64(44.15), '44.15', 'No')",
         "1"
        ],
        [
         "('Female', np.int64(0), 'No', 'No', np.int64(1), 'Yes', 'No', 'DSL', 'No', 'No', 'No', 'No', 'No', 'No', 'Month-to-month', 'No', 'Credit card (automatic)', np.float64(43.95), '43.95', 'No')",
         "1"
        ],
        [
         "('Female', np.int64(0), 'No', 'No', np.int64(1), 'Yes', 'No', 'DSL', 'No', 'No', 'No', 'No', 'No', 'No', 'Month-to-month', 'No', 'Electronic check', np.float64(43.8), '43.8', 'No')",
         "1"
        ],
        [
         "('Female', np.int64(0), 'No', 'No', np.int64(1), 'Yes', 'No', 'DSL', 'No', 'No', 'No', 'No', 'No', 'No', 'Month-to-month', 'No', 'Electronic check', np.float64(45.15), '45.15', 'Yes')",
         "1"
        ],
        [
         "('Female', np.int64(0), 'No', 'No', np.int64(1), 'No', 'No phone service', 'DSL', 'No', 'No', 'No', 'Yes', 'No', 'No', 'Month-to-month', 'No', 'Mailed check', np.float64(30.55), '30.55', 'No')",
         "1"
        ],
        [
         "('Female', np.int64(0), 'No', 'No', np.int64(1), 'Yes', 'No', 'DSL', 'No', 'No', 'No', 'No', 'No', 'No', 'Month-to-month', 'No', 'Mailed check', np.float64(43.95), '43.95', 'Yes')",
         "1"
        ],
        [
         "('Female', np.int64(0), 'No', 'No', np.int64(1), 'Yes', 'No', 'DSL', 'No', 'No', 'No', 'No', 'No', 'No', 'Month-to-month', 'No', 'Mailed check', np.float64(44.4), '44.4', 'Yes')",
         "1"
        ],
        [
         "('Female', np.int64(0), 'No', 'No', np.int64(1), 'Yes', 'No', 'DSL', 'No', 'No', 'No', 'No', 'No', 'No', 'Month-to-month', 'No', 'Mailed check', np.float64(44.75), '44.75', 'No')",
         "1"
        ],
        [
         "('Female', np.int64(0), 'No', 'No', np.int64(1), 'Yes', 'No', 'DSL', 'No', 'No', 'No', 'No', 'No', 'No', 'Month-to-month', 'No', 'Mailed check', np.float64(45.15), '45.15', 'No')",
         "1"
        ],
        [
         "('Female', np.int64(0), 'No', 'No', np.int64(1), 'Yes', 'No', 'DSL', 'No', 'No', 'No', 'No', 'No', 'No', 'Month-to-month', 'No', 'Mailed check', np.float64(45.3), '45.3', 'No')",
         "1"
        ],
        [
         "('Female', np.int64(0), 'No', 'No', np.int64(1), 'Yes', 'No', 'DSL', 'No', 'No', 'No', 'No', 'No', 'No', 'Month-to-month', 'No', 'Mailed check', np.float64(45.35), '45.35', 'No')",
         "1"
        ],
        [
         "('Female', np.int64(0), 'No', 'No', np.int64(1), 'Yes', 'No', 'DSL', 'No', 'No', 'No', 'No', 'No', 'No', 'Month-to-month', 'No', 'Mailed check', np.float64(45.95), '45.95', 'Yes')",
         "1"
        ],
        [
         "('Female', np.int64(0), 'No', 'No', np.int64(1), 'Yes', 'No', 'DSL', 'No', 'No', 'No', 'No', 'No', 'No', 'Month-to-month', 'Yes', 'Bank transfer (automatic)', np.float64(44.9), '44.9', 'Yes')",
         "1"
        ],
        [
         "('Female', np.int64(0), 'No', 'No', np.int64(1), 'Yes', 'No', 'DSL', 'No', 'No', 'No', 'No', 'No', 'No', 'Month-to-month', 'Yes', 'Credit card (automatic)', np.float64(44.55), '44.55', 'No')",
         "1"
        ],
        [
         "('Female', np.int64(0), 'No', 'No', np.int64(1), 'Yes', 'No', 'DSL', 'No', 'No', 'No', 'No', 'No', 'No', 'Month-to-month', 'Yes', 'Electronic check', np.float64(44.1), '44.1', 'Yes')",
         "1"
        ],
        [
         "('Female', np.int64(0), 'No', 'No', np.int64(1), 'Yes', 'No', 'DSL', 'No', 'No', 'No', 'No', 'No', 'No', 'Month-to-month', 'Yes', 'Electronic check', np.float64(45.3), '45.3', 'Yes')",
         "1"
        ],
        [
         "('Female', np.int64(0), 'No', 'No', np.int64(1), 'Yes', 'No', 'DSL', 'No', 'No', 'No', 'No', 'No', 'No', 'Month-to-month', 'Yes', 'Electronic check', np.float64(45.65), '45.65', 'Yes')",
         "1"
        ],
        [
         "('Female', np.int64(0), 'No', 'No', np.int64(1), 'Yes', 'No', 'DSL', 'No', 'No', 'No', 'No', 'No', 'No', 'Month-to-month', 'Yes', 'Mailed check', np.float64(44.0), '44', 'No')",
         "1"
        ],
        [
         "('Female', np.int64(0), 'No', 'No', np.int64(1), 'Yes', 'No', 'DSL', 'No', 'No', 'No', 'No', 'No', 'No', 'Month-to-month', 'Yes', 'Mailed check', np.float64(44.45), '44.45', 'Yes')",
         "1"
        ],
        [
         "('Female', np.int64(0), 'No', 'No', np.int64(1), 'Yes', 'No', 'DSL', 'No', 'No', 'No', 'No', 'No', 'No', 'Month-to-month', 'Yes', 'Mailed check', np.float64(45.3), '45.3', 'Yes')",
         "1"
        ],
        [
         "('Female', np.int64(0), 'No', 'No', np.int64(1), 'Yes', 'No', 'DSL', 'No', 'No', 'No', 'No', 'No', 'No', 'Month-to-month', 'Yes', 'Mailed check', np.float64(45.4), '45.4', 'No')",
         "1"
        ],
        [
         "('Female', np.int64(0), 'No', 'No', np.int64(1), 'Yes', 'No', 'DSL', 'No', 'No', 'No', 'No', 'No', 'No', 'Month-to-month', 'Yes', 'Mailed check', np.float64(45.4), '45.4', 'Yes')",
         "1"
        ],
        [
         "('Female', np.int64(0), 'No', 'No', np.int64(1), 'Yes', 'No', 'DSL', 'No', 'No', 'No', 'No', 'No', 'Yes', 'Month-to-month', 'Yes', 'Electronic check', np.float64(55.4), '55.4', 'Yes')",
         "1"
        ],
        [
         "('Female', np.int64(0), 'No', 'No', np.int64(1), 'Yes', 'No', 'DSL', 'No', 'No', 'No', 'No', 'No', 'Yes', 'Month-to-month', 'Yes', 'Electronic check', np.float64(55.45), '55.45', 'No')",
         "1"
        ],
        [
         "('Female', np.int64(0), 'No', 'No', np.int64(1), 'Yes', 'No', 'DSL', 'No', 'No', 'No', 'No', 'No', 'Yes', 'Month-to-month', 'Yes', 'Electronic check', np.float64(56.25), '56.25', 'Yes')",
         "1"
        ]
       ],
       "shape": {
        "columns": 1,
        "rows": 7021
       }
      },
      "text/plain": [
       "gender  SeniorCitizen  Partner  Dependents  tenure  PhoneService  MultipleLines     InternetService  OnlineSecurity       OnlineBackup         DeviceProtection     TechSupport          StreamingTV          StreamingMovies      Contract        PaperlessBilling  PaymentMethod              MonthlyCharges  TotalCharges  Churn\n",
       "Male    0              No       No          1       Yes           No                No               No internet service  No internet service  No internet service  No internet service  No internet service  No internet service  Month-to-month  No                Mailed check               20.05           20.05         No       3\n",
       "                                                                                                                                                                                                                                                                                                20.20           20.2          No       3\n",
       "Female  0              No       No          1       Yes           No                Fiber optic      No                   No                   No                   No                   No                   No                   Month-to-month  Yes               Electronic check           70.10           70.1          Yes      2\n",
       "                                                                                    No               No internet service  No internet service  No internet service  No internet service  No internet service  No internet service  Month-to-month  No                Mailed check               19.65           19.65         No       2\n",
       "        1              No       No          1       Yes           No                Fiber optic      No                   No                   No                   No                   No                   No                   Month-to-month  Yes               Electronic check           69.60           69.6          Yes      2\n",
       "                                                                                                                                                                                                                                                                                                                                      ..\n",
       "Male    1              Yes      Yes         71      Yes           Yes               Fiber optic      Yes                  Yes                  No                   No                   Yes                  Yes                  Month-to-month  Yes               Credit card (automatic)    105.10          7548.1        Yes      1\n",
       "                                            72      No            No phone service  DSL              Yes                  Yes                  Yes                  Yes                  Yes                  Yes                  Two year        Yes               Bank transfer (automatic)  64.80           4732.35       No       1\n",
       "                                                    Yes           No                Fiber optic      Yes                  No                   Yes                  Yes                  Yes                  Yes                  Two year        Yes               Credit card (automatic)    104.10          7447.7        No       1\n",
       "                                                                  Yes               Fiber optic      Yes                  Yes                  Yes                  Yes                  Yes                  Yes                  Two year        Yes               Bank transfer (automatic)  114.95          8196.4        No       1\n",
       "                                No          72      Yes           Yes               Fiber optic      No                   Yes                  No                   No                   Yes                  Yes                  One year        Yes               Credit card (automatic)    97.25           7133.1        No       1\n",
       "Name: count, Length: 7021, dtype: int64"
      ]
     },
     "execution_count": 15,
     "metadata": {},
     "output_type": "execute_result"
    }
   ],
   "source": [
    "dfcopy.value_counts()"
   ]
  },
  {
   "cell_type": "code",
   "execution_count": 16,
   "id": "2849375b",
   "metadata": {},
   "outputs": [
    {
     "name": "stdout",
     "output_type": "stream",
     "text": [
      "Correlations with Churn (Sorted):\n",
      "Churn                                    1.000000\n",
      "InternetService_Fiber optic              0.308170\n",
      "PaymentMethod_Electronic check           0.301544\n",
      "MonthlyCharges                           0.194508\n",
      "PaperlessBilling                         0.190891\n",
      "SeniorCitizen                            0.151619\n",
      "StreamingTV_Yes                          0.065032\n",
      "StreamingMovies_Yes                      0.063192\n",
      "MultipleLines_Yes                        0.041958\n",
      "PhoneService                             0.011323\n",
      "gender                                  -0.008763\n",
      "MultipleLines_No phone service          -0.011323\n",
      "DeviceProtection_Yes                    -0.064944\n",
      "OnlineBackup_Yes                        -0.081092\n",
      "PaymentMethod_Mailed check              -0.092562\n",
      "PaymentMethod_Credit card (automatic)   -0.133666\n",
      "Partner                                 -0.149135\n",
      "Dependents                              -0.163459\n",
      "TechSupport_Yes                         -0.163937\n",
      "OnlineSecurity_Yes                      -0.170520\n",
      "Contract_One year                       -0.177336\n",
      "TotalCharges                            -0.197198\n",
      "InternetService_No                      -0.228533\n",
      "TechSupport_No internet service         -0.228533\n",
      "DeviceProtection_No internet service    -0.228533\n",
      "OnlineBackup_No internet service        -0.228533\n",
      "OnlineSecurity_No internet service      -0.228533\n",
      "StreamingTV_No internet service         -0.228533\n",
      "StreamingMovies_No internet service     -0.228533\n",
      "Contract_Two year                       -0.302076\n",
      "tenure                                  -0.351508\n"
     ]
    }
   ],
   "source": [
    "correlation_matrix=df_it.corr()\n",
    "print(\"Correlations with Churn (Sorted):\")\n",
    "print(correlation_matrix['Churn'].sort_values(ascending=False).to_string())"
   ]
  },
  {
   "cell_type": "code",
   "execution_count": 17,
   "id": "ead2a3f5",
   "metadata": {},
   "outputs": [
    {
     "data": {
      "image/png": "[encoded data removed]",
      "text/plain": [
       "<Figure size 1000x600 with 1 Axes>"
      ]
     },
     "metadata": {},
     "output_type": "display_data"
    },
    {
     "name": "stderr",
     "output_type": "stream",
     "text": [
      "C:\\Users\\2021\\AppData\\Local\\Temp\\ipykernel_36772\\3824090807.py:15: FutureWarning: \n",
      "\n",
      "Passing `palette` without assigning `hue` is deprecated and will be removed in v0.14.0. Assign the `x` variable to `hue` and set `legend=False` for the same effect.\n",
      "\n",
      "  sns.boxplot(x='Churn', y='tenure', data=df_it, palette='viridis')\n"
     ]
    },
    {
     "data": {
      "image/png": "[encoded data removed]",
      "text/plain": [
       "<Figure size 800x500 with 1 Axes>"
      ]
     },
     "metadata": {},
     "output_type": "display_data"
    }
   ],
   "source": [
    "\n",
    "\n",
    "plt.figure(figsize=(10, 6))\n",
    "\n",
    "sns.histplot(data=df_it, x='tenure', hue='Churn', kde=True, bins=30, palette='viridis')\n",
    "plt.title('Distribution of Tenure by Churn Status', fontsize=16)\n",
    "plt.xlabel('Tenure (Months)', fontsize=12)\n",
    "plt.ylabel('Number of Customers', fontsize=12)\n",
    "plt.legend(title='Churn', labels=['No Churn (0)', 'Churn (1)'])\n",
    "plt.grid(axis='y', linestyle='--', alpha=0.7)\n",
    "plt.tight_layout()\n",
    "\n",
    "plt.show()\n",
    "\n",
    "\n",
    "plt.figure(figsize=(8, 5))\n",
    "sns.boxplot(x='Churn', y='tenure', data=df_it, palette='viridis')\n",
    "plt.title('Tenure Distribution by Churn Status', fontsize=16)\n",
    "plt.xlabel('Churn (0: No, 1: Yes)', fontsize=12)\n",
    "plt.ylabel('Tenure (Months)', fontsize=12)\n",
    "plt.xticks([0, 1], ['No Churn', 'Churn'])\n",
    "plt.tight_layout()\n",
    "\n",
    "plt.show()"
   ]
  },
  {
   "cell_type": "code",
   "execution_count": 18,
   "id": "c194bf09",
   "metadata": {},
   "outputs": [
    {
     "name": "stderr",
     "output_type": "stream",
     "text": [
      "C:\\Users\\2021\\AppData\\Local\\Temp\\ipykernel_36772\\3019439642.py:26: FutureWarning: \n",
      "\n",
      "Passing `palette` without assigning `hue` is deprecated and will be removed in v0.14.0. Assign the `x` variable to `hue` and set `legend=False` for the same effect.\n",
      "\n",
      "  sns.barplot(x=df_it[col].value_counts().index, y=df_it.groupby(col)['Churn'].mean(), palette='viridis')\n",
      "C:\\Users\\2021\\AppData\\Local\\Temp\\ipykernel_36772\\3019439642.py:26: FutureWarning: \n",
      "\n",
      "Passing `palette` without assigning `hue` is deprecated and will be removed in v0.14.0. Assign the `x` variable to `hue` and set `legend=False` for the same effect.\n",
      "\n",
      "  sns.barplot(x=df_it[col].value_counts().index, y=df_it.groupby(col)['Churn'].mean(), palette='viridis')\n",
      "C:\\Users\\2021\\AppData\\Local\\Temp\\ipykernel_36772\\3019439642.py:26: FutureWarning: \n",
      "\n",
      "Passing `palette` without assigning `hue` is deprecated and will be removed in v0.14.0. Assign the `x` variable to `hue` and set `legend=False` for the same effect.\n",
      "\n",
      "  sns.barplot(x=df_it[col].value_counts().index, y=df_it.groupby(col)['Churn'].mean(), palette='viridis')\n",
      "C:\\Users\\2021\\AppData\\Local\\Temp\\ipykernel_36772\\3019439642.py:26: FutureWarning: \n",
      "\n",
      "Passing `palette` without assigning `hue` is deprecated and will be removed in v0.14.0. Assign the `x` variable to `hue` and set `legend=False` for the same effect.\n",
      "\n",
      "  sns.barplot(x=df_it[col].value_counts().index, y=df_it.groupby(col)['Churn'].mean(), palette='viridis')\n",
      "C:\\Users\\2021\\AppData\\Local\\Temp\\ipykernel_36772\\3019439642.py:26: FutureWarning: \n",
      "\n",
      "Passing `palette` without assigning `hue` is deprecated and will be removed in v0.14.0. Assign the `x` variable to `hue` and set `legend=False` for the same effect.\n",
      "\n",
      "  sns.barplot(x=df_it[col].value_counts().index, y=df_it.groupby(col)['Churn'].mean(), palette='viridis')\n",
      "C:\\Users\\2021\\AppData\\Local\\Temp\\ipykernel_36772\\3019439642.py:26: FutureWarning: \n",
      "\n",
      "Passing `palette` without assigning `hue` is deprecated and will be removed in v0.14.0. Assign the `x` variable to `hue` and set `legend=False` for the same effect.\n",
      "\n",
      "  sns.barplot(x=df_it[col].value_counts().index, y=df_it.groupby(col)['Churn'].mean(), palette='viridis')\n",
      "C:\\Users\\2021\\AppData\\Local\\Temp\\ipykernel_36772\\3019439642.py:26: FutureWarning: \n",
      "\n",
      "Passing `palette` without assigning `hue` is deprecated and will be removed in v0.14.0. Assign the `x` variable to `hue` and set `legend=False` for the same effect.\n",
      "\n",
      "  sns.barplot(x=df_it[col].value_counts().index, y=df_it.groupby(col)['Churn'].mean(), palette='viridis')\n",
      "C:\\Users\\2021\\AppData\\Local\\Temp\\ipykernel_36772\\3019439642.py:26: FutureWarning: \n",
      "\n",
      "Passing `palette` without assigning `hue` is deprecated and will be removed in v0.14.0. Assign the `x` variable to `hue` and set `legend=False` for the same effect.\n",
      "\n",
      "  sns.barplot(x=df_it[col].value_counts().index, y=df_it.groupby(col)['Churn'].mean(), palette='viridis')\n",
      "C:\\Users\\2021\\AppData\\Local\\Temp\\ipykernel_36772\\3019439642.py:26: FutureWarning: \n",
      "\n",
      "Passing `palette` without assigning `hue` is deprecated and will be removed in v0.14.0. Assign the `x` variable to `hue` and set `legend=False` for the same effect.\n",
      "\n",
      "  sns.barplot(x=df_it[col].value_counts().index, y=df_it.groupby(col)['Churn'].mean(), palette='viridis')\n",
      "C:\\Users\\2021\\AppData\\Local\\Temp\\ipykernel_36772\\3019439642.py:26: FutureWarning: \n",
      "\n",
      "Passing `palette` without assigning `hue` is deprecated and will be removed in v0.14.0. Assign the `x` variable to `hue` and set `legend=False` for the same effect.\n",
      "\n",
      "  sns.barplot(x=df_it[col].value_counts().index, y=df_it.groupby(col)['Churn'].mean(), palette='viridis')\n",
      "C:\\Users\\2021\\AppData\\Local\\Temp\\ipykernel_36772\\3019439642.py:26: FutureWarning: \n",
      "\n",
      "Passing `palette` without assigning `hue` is deprecated and will be removed in v0.14.0. Assign the `x` variable to `hue` and set `legend=False` for the same effect.\n",
      "\n",
      "  sns.barplot(x=df_it[col].value_counts().index, y=df_it.groupby(col)['Churn'].mean(), palette='viridis')\n",
      "C:\\Users\\2021\\AppData\\Local\\Temp\\ipykernel_36772\\3019439642.py:26: FutureWarning: \n",
      "\n",
      "Passing `palette` without assigning `hue` is deprecated and will be removed in v0.14.0. Assign the `x` variable to `hue` and set `legend=False` for the same effect.\n",
      "\n",
      "  sns.barplot(x=df_it[col].value_counts().index, y=df_it.groupby(col)['Churn'].mean(), palette='viridis')\n",
      "C:\\Users\\2021\\AppData\\Local\\Temp\\ipykernel_36772\\3019439642.py:26: FutureWarning: \n",
      "\n",
      "Passing `palette` without assigning `hue` is deprecated and will be removed in v0.14.0. Assign the `x` variable to `hue` and set `legend=False` for the same effect.\n",
      "\n",
      "  sns.barplot(x=df_it[col].value_counts().index, y=df_it.groupby(col)['Churn'].mean(), palette='viridis')\n",
      "C:\\Users\\2021\\AppData\\Local\\Temp\\ipykernel_36772\\3019439642.py:26: FutureWarning: \n",
      "\n",
      "Passing `palette` without assigning `hue` is deprecated and will be removed in v0.14.0. Assign the `x` variable to `hue` and set `legend=False` for the same effect.\n",
      "\n",
      "  sns.barplot(x=df_it[col].value_counts().index, y=df_it.groupby(col)['Churn'].mean(), palette='viridis')\n",
      "C:\\Users\\2021\\AppData\\Local\\Temp\\ipykernel_36772\\3019439642.py:26: FutureWarning: \n",
      "\n",
      "Passing `palette` without assigning `hue` is deprecated and will be removed in v0.14.0. Assign the `x` variable to `hue` and set `legend=False` for the same effect.\n",
      "\n",
      "  sns.barplot(x=df_it[col].value_counts().index, y=df_it.groupby(col)['Churn'].mean(), palette='viridis')\n",
      "C:\\Users\\2021\\AppData\\Local\\Temp\\ipykernel_36772\\3019439642.py:26: FutureWarning: \n",
      "\n",
      "Passing `palette` without assigning `hue` is deprecated and will be removed in v0.14.0. Assign the `x` variable to `hue` and set `legend=False` for the same effect.\n",
      "\n",
      "  sns.barplot(x=df_it[col].value_counts().index, y=df_it.groupby(col)['Churn'].mean(), palette='viridis')\n"
     ]
    },
    {
     "data": {
      "image/png": "[encoded data removed]",
      "text/plain": [
       "<Figure size 1400x1000 with 16 Axes>"
      ]
     },
     "metadata": {},
     "output_type": "display_data"
    },
    {
     "name": "stdout",
     "output_type": "stream",
     "text": [
      "\n",
      "Churn Rates for Key Service Features:\n",
      "  InternetService Fiber optic: Yes=0.418, No=0.144\n",
      "  Contract One year: Yes=0.113, No=0.305\n",
      "  Contract Two year: Yes=0.028, No=0.340\n",
      "  PaymentMethod Electronic check: Yes=0.451, No=0.170\n",
      "  OnlineSecurity : Yes=0.146, No=0.312\n",
      "  OnlineBackup : Yes=0.215, No=0.291\n",
      "  DeviceProtection : Yes=0.225, No=0.285\n",
      "  TechSupport : Yes=0.152, No=0.311\n",
      "  StreamingTV : Yes=0.301, No=0.242\n",
      "  StreamingMovies : Yes=0.299, No=0.242\n",
      "  MultipleLines : Yes=0.286, No=0.249\n",
      "  PhoneService: Yes=0.266, No=0.249\n",
      "  PaperlessBilling: Yes=0.334, No=0.163\n",
      "  SeniorCitizen: Yes=0.416, No=0.235\n",
      "  Partner: Yes=0.197, No=0.328\n",
      "  Dependents: Yes=0.155, No=0.312\n",
      "\n",
      "Overall Churn Rate: 0.264\n",
      "\n",
      "Services / Features with noticeably higher churn rate than overall average:\n",
      "- InternetService Fiber optic (Yes): 0.418\n",
      "- PaymentMethod Electronic check (Yes): 0.451\n",
      "- PaperlessBilling (Yes): 0.334\n",
      "- SeniorCitizen (Yes): 0.416\n"
     ]
    }
   ],
   "source": [
    "\n",
    "\n",
    "churn_rate_analysis_cols = [\n",
    "    'InternetService_Fiber optic', \n",
    "    'Contract_One year',\n",
    "    'Contract_Two year',\n",
    "    'PaymentMethod_Electronic check', \n",
    "    \n",
    "    'OnlineSecurity_Yes',\n",
    "    'OnlineBackup_Yes',\n",
    "    'DeviceProtection_Yes',\n",
    "    'TechSupport_Yes',\n",
    "    'StreamingTV_Yes',\n",
    "    'StreamingMovies_Yes',\n",
    "    'MultipleLines_Yes',\n",
    "    'PhoneService', \n",
    "    'PaperlessBilling', \n",
    "    'SeniorCitizen',\n",
    "    'Partner',\n",
    "    'Dependents'\n",
    "]\n",
    "\n",
    "plt.figure(figsize=(14, 10))\n",
    "plt.suptitle('Churn Rate by Service Features', fontsize=18, y=1.02) \n",
    "\n",
    "for i, col in enumerate(churn_rate_analysis_cols):\n",
    "    plt.subplot(4, 4, i + 1) \n",
    "    sns.barplot(x=df_it[col].value_counts().index, y=df_it.groupby(col)['Churn'].mean(), palette='viridis')\n",
    "    plt.title(f'Churn Rate by {col.replace(\"_\", \" \").replace(\"Yes\", \"\")}', fontsize=10)\n",
    "    plt.xlabel('') \n",
    "    plt.ylabel('Churn Rate', fontsize=9)\n",
    "    plt.xticks([0, 1], ['No', 'Yes'], fontsize=8) \n",
    "\n",
    "plt.tight_layout(rect=[0, 0.03, 1, 0.98]) \n",
    "\n",
    "plt.show()\n",
    "\n",
    "print(\"\\nChurn Rates for Key Service Features:\")\n",
    "for col in churn_rate_analysis_cols:\n",
    "    if len(df_it[col].value_counts()) == 2:\n",
    "        churn_rate_yes = df_it.groupby(col)['Churn'].mean().get(1, 0)\n",
    "        churn_rate_no = df_it.groupby(col)['Churn'].mean().get(0, 0)\n",
    "        print(f\"  {col.replace('_', ' ').replace('Yes', '')}: Yes={churn_rate_yes:.3f}, No={churn_rate_no:.3f}\")\n",
    "    else: \n",
    "        print(f\"  {col.replace('_', ' ')}:\\n{df_it.groupby(col)['Churn'].mean().to_string()}\")\n",
    "\n",
    "\n",
    "overall_churn_rate = df_it['Churn'].mean()\n",
    "print(f\"\\nOverall Churn Rate: {overall_churn_rate:.3f}\")\n",
    "\n",
    "print(\"\\nServices / Features with noticeably higher churn rate than overall average:\")\n",
    "for col in churn_rate_analysis_cols:\n",
    "    if col in df_it.columns: \n",
    "        if len(df_it[col].value_counts()) == 2:\n",
    "            churn_rate_yes = df_it.groupby(col)['Churn'].mean().get(1, 0)\n",
    "            if churn_rate_yes > overall_churn_rate + 0.05: \n",
    "                print(f\"- {col.replace('_', ' ').replace('Yes', '')} (Yes): {churn_rate_yes:.3f}\")"
   ]
  },
  {
   "cell_type": "code",
   "execution_count": 19,
   "id": "c7c1c2f2",
   "metadata": {},
   "outputs": [
    {
     "name": "stdout",
     "output_type": "stream",
     "text": [
      "Shape of X_train: (5616, 30)\n",
      "Shape of X_test: (1405, 30)\n",
      "Shape of y_train: (5616,)\n",
      "Shape of y_test: (1405,)\n",
      "\n",
      "Churn distribution in original data (y):\n",
      "Churn\n",
      "0    0.735508\n",
      "1    0.264492\n",
      "Name: proportion, dtype: float64\n",
      "\n",
      "Churn distribution in training set (y_train):\n",
      "Churn\n",
      "0    0.735577\n",
      "1    0.264423\n",
      "Name: proportion, dtype: float64\n",
      "\n",
      "Churn distribution in test set (y_test):\n",
      "Churn\n",
      "0    0.735231\n",
      "1    0.264769\n",
      "Name: proportion, dtype: float64\n"
     ]
    }
   ],
   "source": [
    "from sklearn.model_selection import train_test_split\n",
    "X = df_it.drop('Churn', axis=1) \n",
    "y = df_it['Churn']\n",
    "X_train, X_test, y_train, y_test = train_test_split(X, y, test_size=0.2, random_state=42, stratify=y)\n",
    "\n",
    "print(\"Shape of X_train:\", X_train.shape)\n",
    "print(\"Shape of X_test:\", X_test.shape)\n",
    "print(\"Shape of y_train:\", y_train.shape)\n",
    "print(\"Shape of y_test:\", y_test.shape)\n",
    "print(\"\\nChurn distribution in original data (y):\")\n",
    "print(y.value_counts(normalize=True))\n",
    "print(\"\\nChurn distribution in training set (y_train):\")\n",
    "print(y_train.value_counts(normalize=True))\n",
    "print(\"\\nChurn distribution in test set (y_test):\")\n",
    "print(y_test.value_counts(normalize=True))"
   ]
  },
  {
   "cell_type": "code",
   "execution_count": 20,
   "id": "01be3161",
   "metadata": {},
   "outputs": [
    {
     "name": "stdout",
     "output_type": "stream",
     "text": [
      "Performing Cross-Validation on Logistic Regression Model...\n"
     ]
    },
    {
     "name": "stdout",
     "output_type": "stream",
     "text": [
      "Accuracy scores for each fold: [0.8158363  0.8032057  0.79608192 0.82101514 0.78183437]\n",
      "Average Accuracy across folds: 0.8036 (+/- 0.0280)\n",
      "Precision scores for each fold: [0.68292683 0.652      0.64529915 0.69047619 0.6023622 ]\n",
      "Average Precision across folds: 0.6546 (+/- 0.0627)\n",
      "Recall scores for each fold: [0.56565657 0.54882155 0.50841751 0.58585859 0.51515152]\n",
      "Average Recall across folds: 0.5448 (+/- 0.0589)\n",
      "F1 scores for each fold: [0.61878453 0.59597806 0.56873823 0.63387978 0.5553539 ]\n",
      "Average F1 across folds: 0.5945 (+/- 0.0589)\n",
      "Roc_auc scores for each fold: [0.86597942 0.8335188  0.84010403 0.86096233 0.82408223]\n",
      "Average Roc_auc across folds: 0.8449 (+/- 0.0321)\n",
      "\n",
      "Cross-Validation Results Summary:\n",
      "- Accuracy: Mean = 0.8036, Std = 0.0140\n",
      "- Precision: Mean = 0.6546, Std = 0.0313\n",
      "- Recall: Mean = 0.5448, Std = 0.0295\n",
      "- F1: Mean = 0.5945, Std = 0.0295\n",
      "- Roc_auc: Mean = 0.8449, Std = 0.0161\n",
      "\n",
      "Model trained on the full training set.\n",
      "\n",
      "Evaluation on Hold-out Test Set:\n",
      "Accuracy: 0.8014\n",
      "Precision: 0.6576\n",
      "Recall: 0.5215\n",
      "F1-Score: 0.5817\n",
      "ROC AUC Score: 0.8400\n"
     ]
    }
   ],
   "source": [
    "\n",
    "from sklearn.model_selection import train_test_split, StratifiedKFold, cross_val_score\n",
    "from sklearn.linear_model import LogisticRegression\n",
    "from sklearn.metrics import accuracy_score, precision_score, recall_score, f1_score, roc_auc_score\n",
    "\n",
    "\n",
    "\n",
    "\n",
    "model = LogisticRegression(max_iter=1000, solver='liblinear', random_state=42)\n",
    "\n",
    "\n",
    "cv = StratifiedKFold(n_splits=5, shuffle=True, random_state=42)\n",
    "\n",
    "\n",
    "scoring_metrics = ['accuracy', 'precision', 'recall', 'f1', 'roc_auc']\n",
    "cv_results = {}\n",
    "\n",
    "print(\"Performing Cross-Validation on Logistic Regression Model...\")\n",
    "for metric in scoring_metrics:\n",
    "    scores = cross_val_score(model, X_train, y_train, cv=cv, scoring=metric)\n",
    "    cv_results[metric] = scores\n",
    "    print(f\"{metric.capitalize()} scores for each fold: {scores}\")\n",
    "    print(f\"Average {metric.capitalize()} across folds: {scores.mean():.4f} (+/- {scores.std()*2:.4f})\")\n",
    "\n",
    "print(\"\\nCross-Validation Results Summary:\")\n",
    "for metric, scores in cv_results.items():\n",
    "    print(f\"- {metric.capitalize()}: Mean = {scores.mean():.4f}, Std = {scores.std():.4f}\")\n",
    "\n",
    "\n",
    "model.fit(X_train, y_train)\n",
    "print(\"\\nModel trained on the full training set.\")\n",
    "\n",
    "\n",
    "y_pred = model.predict(X_test)\n",
    "y_pred_proba = model.predict_proba(X_test)[:, 1] \n",
    "\n",
    "print(\"\\nEvaluation on Hold-out Test Set:\")\n",
    "print(f\"Accuracy: {accuracy_score(y_test, y_pred):.4f}\")\n",
    "print(f\"Precision: {precision_score(y_test, y_pred):.4f}\")\n",
    "print(f\"Recall: {recall_score(y_test, y_pred):.4f}\")\n",
    "print(f\"F1-Score: {f1_score(y_test, y_pred):.4f}\")\n",
    "print(f\"ROC AUC Score: {roc_auc_score(y_test, y_pred_proba):.4f}\")"
   ]
  },
  {
   "cell_type": "code",
   "execution_count": 21,
   "id": "fa42611a",
   "metadata": {},
   "outputs": [
    {
     "name": "stdout",
     "output_type": "stream",
     "text": [
      "Performing Cross-Validation on Random Forest Classifier Model...\n",
      "Accuracy scores for each fold: [0.80427046 0.79608192 0.7809439  0.80854853 0.79162956]\n",
      "Average Accuracy across folds: 0.7963 (+/- 0.0194)\n",
      "Precision scores for each fold: [0.67111111 0.66037736 0.62085308 0.69158879 0.64125561]\n",
      "Average Precision across folds: 0.6570 (+/- 0.0487)\n",
      "Recall scores for each fold: [0.50841751 0.47138047 0.44107744 0.4983165  0.48148148]\n",
      "Average Recall across folds: 0.4801 (+/- 0.0468)\n",
      "F1 scores for each fold: [0.57854406 0.55009823 0.51574803 0.57925636 0.55      ]\n",
      "Average F1 across folds: 0.5547 (+/- 0.0468)\n",
      "Roc_auc scores for each fold: [0.85027013 0.81690594 0.81688149 0.83942533 0.81340035]\n",
      "Average Roc_auc across folds: 0.8274 (+/- 0.0295)\n",
      "\n",
      "Random Forest Cross-Validation Results Summary:\n",
      "- Accuracy: Mean = 0.7963, Std = 0.0097\n",
      "- Precision: Mean = 0.6570, Std = 0.0243\n",
      "- Recall: Mean = 0.4801, Std = 0.0234\n",
      "- F1: Mean = 0.5547, Std = 0.0234\n",
      "- Roc_auc: Mean = 0.8274, Std = 0.0147\n",
      "\n",
      "Random Forest Model trained on the full training set.\n",
      "\n",
      "Random Forest Evaluation on Hold-out Test Set:\n",
      "Accuracy: 0.7779\n",
      "Precision: 0.6163\n",
      "Recall: 0.4274\n",
      "F1-Score: 0.5048\n",
      "ROC AUC Score: 0.8153\n",
      "\n",
      "Feature Importances from Random Forest:\n",
      "TotalCharges                      0.177253\n",
      "tenure                            0.163409\n",
      "MonthlyCharges                    0.153481\n",
      "Contract_Two year                 0.055754\n",
      "InternetService_Fiber optic       0.045189\n",
      "PaymentMethod_Electronic check    0.036774\n",
      "Contract_One year                 0.029214\n",
      "OnlineSecurity_Yes                0.026361\n",
      "gender                            0.025654\n",
      "PaperlessBilling                  0.024829\n",
      "TechSupport_Yes                   0.024014\n",
      "Partner                           0.021376\n",
      "OnlineBackup_Yes                  0.020607\n",
      "Dependents                        0.018724\n",
      "DeviceProtection_Yes              0.018103\n"
     ]
    },
    {
     "name": "stderr",
     "output_type": "stream",
     "text": [
      "C:\\Users\\2021\\AppData\\Local\\Temp\\ipykernel_36772\\3048887054.py:48: FutureWarning: \n",
      "\n",
      "Passing `palette` without assigning `hue` is deprecated and will be removed in v0.14.0. Assign the `y` variable to `hue` and set `legend=False` for the same effect.\n",
      "\n",
      "  sns.barplot(x=feature_importances_sorted.head(15).values, y=feature_importances_sorted.head(15).index, palette='viridis')\n"
     ]
    },
    {
     "data": {
      "image/png": "[encoded data removed]",
      "text/plain": [
       "<Figure size 1200x800 with 1 Axes>"
      ]
     },
     "metadata": {},
     "output_type": "display_data"
    }
   ],
   "source": [
    "from sklearn.ensemble import RandomForestClassifier\n",
    "model_rf = RandomForestClassifier(n_estimators=100, random_state=42, class_weight='balanced')\n",
    "\n",
    "\n",
    "cv = StratifiedKFold(n_splits=5, shuffle=True, random_state=42)\n",
    "\n",
    "scoring_metrics = ['accuracy', 'precision', 'recall', 'f1', 'roc_auc']\n",
    "cv_results_rf = {}\n",
    "\n",
    "print(\"Performing Cross-Validation on Random Forest Classifier Model...\")\n",
    "for metric in scoring_metrics:\n",
    "    \n",
    "    scores = cross_val_score(model_rf, X_train, y_train, cv=cv, scoring=metric)\n",
    "    cv_results_rf[metric] = scores\n",
    "    print(f\"{metric.capitalize()} scores for each fold: {scores}\")\n",
    "    print(f\"Average {metric.capitalize()} across folds: {scores.mean():.4f} (+/- {scores.std()*2:.4f})\")\n",
    "\n",
    "print(\"\\nRandom Forest Cross-Validation Results Summary:\")\n",
    "for metric, scores in cv_results_rf.items():\n",
    "    print(f\"- {metric.capitalize()}: Mean = {scores.mean():.4f}, Std = {scores.std():.4f}\")\n",
    "\n",
    "\n",
    "model_rf.fit(X_train, y_train)\n",
    "print(\"\\nRandom Forest Model trained on the full training set.\")\n",
    "\n",
    "\n",
    "y_pred_rf = model_rf.predict(X_test)\n",
    "y_pred_proba_rf = model_rf.predict_proba(X_test)[:, 1] \n",
    "\n",
    "print(\"\\nRandom Forest Evaluation on Hold-out Test Set:\")\n",
    "print(f\"Accuracy: {accuracy_score(y_test, y_pred_rf):.4f}\")\n",
    "print(f\"Precision: {precision_score(y_test, y_pred_rf):.4f}\")\n",
    "print(f\"Recall: {recall_score(y_test, y_pred_rf):.4f}\")\n",
    "print(f\"F1-Score: {f1_score(y_test, y_pred_rf):.4f}\")\n",
    "print(f\"ROC AUC Score: {roc_auc_score(y_test, y_pred_proba_rf):.4f}\")\n",
    "\n",
    "\n",
    "\n",
    "print(\"\\nFeature Importances from Random Forest:\")\n",
    "feature_importances = pd.Series(model_rf.feature_importances_, index=X_train.columns)\n",
    "feature_importances_sorted = feature_importances.sort_values(ascending=False)\n",
    "\n",
    "\n",
    "print(feature_importances_sorted.head(15).to_string())\n",
    "\n",
    "\n",
    "plt.figure(figsize=(12, 8))\n",
    "sns.barplot(x=feature_importances_sorted.head(15).values, y=feature_importances_sorted.head(15).index, palette='viridis')\n",
    "plt.title('Top 15 Feature Importances (Random Forest)', fontsize=16)\n",
    "plt.xlabel('Importance', fontsize=12)\n",
    "plt.ylabel('Feature', fontsize=12)\n",
    "plt.tight_layout()\n",
    "plt.savefig('random_forest_feature_importances.png')\n",
    "plt.show()"
   ]
  },
  {
   "cell_type": "code",
   "execution_count": null,
   "id": "babb434a",
   "metadata": {},
   "outputs": [],
   "source": []
  },
  {
   "cell_type": "code",
   "execution_count": 22,
   "id": "1e2b66c7",
   "metadata": {},
   "outputs": [
    {
     "name": "stdout",
     "output_type": "stream",
     "text": [
      "Starting RandomizedSearchCV for Logistic Regression...\n",
      "Fitting 5 folds for each of 100 candidates, totalling 500 fits\n",
      "\n",
      "Best parameters found by RandomizedSearchCV:\n",
      "{'C': np.float64(63.95288218539363), 'class_weight': 'balanced', 'penalty': 'l1', 'solver': 'liblinear'}\n",
      "Best ROC AUC score from RandomizedSearchCV (CV): 0.8461\n",
      "\n",
      "Evaluation of Best Logistic Regression Model on Hold-out Test Set:\n",
      "Accuracy: 0.7402\n",
      "Precision: 0.5061\n",
      "Recall: 0.7823\n",
      "F1-Score: 0.6146\n",
      "ROC AUC Score: 0.8398\n"
     ]
    }
   ],
   "source": [
    "\n",
    "from sklearn.model_selection import RandomizedSearchCV, StratifiedKFold\n",
    "from scipy.stats import uniform, loguniform\n",
    "\n",
    "\n",
    "model_lr = LogisticRegression(random_state=42, max_iter=2000) \n",
    "\n",
    "\n",
    "param_distributions_lr = {\n",
    "    'C': loguniform(0.001, 100),\n",
    "    'penalty': ['l1', 'l2'],\n",
    "    'solver': ['liblinear'], \n",
    "    'class_weight': ['balanced'] \n",
    "}\n",
    "\n",
    "\n",
    "cv_folds = StratifiedKFold(n_splits=5, shuffle=True, random_state=42)\n",
    "\n",
    "\n",
    "random_search_lr = RandomizedSearchCV(estimator=model_lr,\n",
    "                                      param_distributions=param_distributions_lr,\n",
    "                                      n_iter=100, # عدد مرات التجربة العشوائية\n",
    "                                      cv=cv_folds,\n",
    "                                      scoring='roc_auc',\n",
    "                                      random_state=42,\n",
    "                                      verbose=1,\n",
    "                                      n_jobs=-1)\n",
    "\n",
    "print(\"Starting RandomizedSearchCV for Logistic Regression...\")\n",
    "\n",
    "random_search_lr.fit(X_train, y_train)\n",
    "\n",
    "print(\"\\nBest parameters found by RandomizedSearchCV:\")\n",
    "print(random_search_lr.best_params_)\n",
    "print(f\"Best ROC AUC score from RandomizedSearchCV (CV): {random_search_lr.best_score_:.4f}\")\n",
    "\n",
    "\n",
    "best_lr_model = random_search_lr.best_estimator_\n",
    "\n",
    "y_pred_best_lr = best_lr_model.predict(X_test)\n",
    "y_pred_proba_best_lr = best_lr_model.predict_proba(X_test)[:, 1] \n",
    "\n",
    "print(\"\\nEvaluation of Best Logistic Regression Model on Hold-out Test Set:\")\n",
    "print(f\"Accuracy: {accuracy_score(y_test, y_pred_best_lr):.4f}\")\n",
    "print(f\"Precision: {precision_score(y_test, y_pred_best_lr):.4f}\")\n",
    "print(f\"Recall: {recall_score(y_test, y_pred_best_lr):.4f}\")\n",
    "print(f\"F1-Score: {f1_score(y_test, y_pred_best_lr):.4f}\")\n",
    "print(f\"ROC AUC Score: {roc_auc_score(y_test, y_pred_proba_best_lr):.4f}\")"
   ]
  },
  {
   "cell_type": "code",
   "execution_count": null,
   "id": "b4fe9848",
   "metadata": {},
   "outputs": [
    {
     "name": "stdout",
     "output_type": "stream",
     "text": [
      "Starting RandomizedSearchCV for Random Forest Classifier...\n",
      "Fitting 5 folds for each of 200 candidates, totalling 1000 fits\n",
      "\n",
      "Best parameters found by RandomizedSearchCV for Random Forest:\n",
      "{'class_weight': 'balanced', 'criterion': 'entropy', 'max_depth': 35, 'max_features': 'log2', 'min_samples_leaf': 8, 'min_samples_split': 14, 'n_estimators': 328}\n",
      "Best ROC AUC score from RandomizedSearchCV (CV) for Random Forest: 0.8485\n",
      "\n",
      "Evaluation of Best Random Forest Model on Hold-out Test Set:\n",
      "Accuracy: 0.7665\n",
      "Precision: 0.5440\n",
      "Recall: 0.7312\n",
      "F1-Score: 0.6239\n",
      "ROC AUC Score: 0.8418\n",
      "\n",
      "Feature Importances from Best Random Forest Model:\n",
      "tenure                                 0.165366\n",
      "TotalCharges                           0.142830\n",
      "Contract_Two year                      0.109649\n",
      "MonthlyCharges                         0.096311\n",
      "InternetService_Fiber optic            0.074976\n",
      "PaymentMethod_Electronic check         0.048170\n",
      "Contract_One year                      0.038345\n",
      "OnlineSecurity_Yes                     0.028509\n",
      "TechSupport_Yes                        0.025825\n",
      "OnlineSecurity_No internet service     0.021404\n",
      "PaperlessBilling                       0.019529\n",
      "TechSupport_No internet service        0.017256\n",
      "StreamingMovies_No internet service    0.016909\n",
      "InternetService_No                     0.015375\n",
      "Partner                                0.015274\n"
     ]
    },
    {
     "name": "stderr",
     "output_type": "stream",
     "text": [
      "C:\\Users\\2021\\AppData\\Local\\Temp\\ipykernel_36772\\4093968664.py:67: FutureWarning: \n",
      "\n",
      "Passing `palette` without assigning `hue` is deprecated and will be removed in v0.14.0. Assign the `y` variable to `hue` and set `legend=False` for the same effect.\n",
      "\n",
      "  sns.barplot(x=feature_importances_tuned_rf_sorted.head(15).values, y=feature_importances_tuned_rf_sorted.head(15).index, palette='viridis')\n"
     ]
    },
    {
     "data": {
      "image/png": "[encoded data removed]",
      "text/plain": [
       "<Figure size 1200x800 with 1 Axes>"
      ]
     },
     "metadata": {},
     "output_type": "display_data"
    }
   ],
   "source": [
    "from scipy.stats import randint, uniform\n",
    "\n",
    "\n",
    "\n",
    "model_rf_tuned = RandomForestClassifier(random_state=42)\n",
    "\n",
    "\n",
    "param_distributions_rf = {\n",
    "    'n_estimators': randint(100, 500), \n",
    "    'max_features': ['sqrt', 'log2', 0.6, 0.8, 1.0], \n",
    "    'max_depth': randint(10, 100), \n",
    "    'min_samples_split': randint(2, 20), \n",
    "    'min_samples_leaf': randint(1, 10), \n",
    "    'criterion': ['gini', 'entropy'], \n",
    "    'class_weight': ['balanced'] \n",
    "}\n",
    "\n",
    "\n",
    "cv_folds = StratifiedKFold(n_splits=5, shuffle=True, random_state=42)\n",
    "\n",
    "\n",
    "random_search_rf = RandomizedSearchCV(estimator=model_rf_tuned,\n",
    "                                      param_distributions=param_distributions_rf,\n",
    "                                      n_iter=200,\n",
    "                                      cv=cv_folds,\n",
    "                                      scoring='roc_auc',\n",
    "                                      random_state=42,\n",
    "                                      verbose=1,\n",
    "                                      n_jobs=-1)\n",
    "\n",
    "print(\"Starting RandomizedSearchCV for Random Forest Classifier...\")\n",
    "\n",
    "random_search_rf.fit(X_train, y_train)\n",
    "\n",
    "print(\"\\nBest parameters found by RandomizedSearchCV for Random Forest:\")\n",
    "print(random_search_rf.best_params_)\n",
    "print(f\"Best ROC AUC score from RandomizedSearchCV (CV) for Random Forest: {random_search_rf.best_score_:.4f}\")\n",
    "\n",
    "\n",
    "best_rf_model = random_search_rf.best_estimator_\n",
    "\n",
    "y_pred_best_rf = best_rf_model.predict(X_test)\n",
    "y_pred_proba_best_rf = best_rf_model.predict_proba(X_test)[:, 1]\n",
    "\n",
    "print(\"\\nEvaluation of Best Random Forest Model on Hold-out Test Set:\")\n",
    "print(f\"Accuracy: {accuracy_score(y_test, y_pred_best_rf):.4f}\")\n",
    "print(f\"Precision: {precision_score(y_test, y_pred_best_rf):.4f}\")\n",
    "print(f\"Recall: {recall_score(y_test, y_pred_best_rf):.4f}\")\n",
    "print(f\"F1-Score: {f1_score(y_test, y_pred_best_rf):.4f}\")\n",
    "print(f\"ROC AUC Score: {roc_auc_score(y_test, y_pred_proba_best_rf):.4f}\")\n",
    "\n",
    "\n",
    "print(\"\\nFeature Importances from Best Random Forest Model:\")\n",
    "feature_importances_tuned_rf = pd.Series(best_rf_model.feature_importances_, index=X_train.columns)\n",
    "feature_importances_tuned_rf_sorted = feature_importances_tuned_rf.sort_values(ascending=False)\n",
    "\n",
    "print(feature_importances_tuned_rf_sorted.head(15).to_string())\n",
    "\n",
    "\n",
    "import matplotlib.pyplot as plt\n",
    "import seaborn as sns\n",
    "\n",
    "plt.figure(figsize=(12, 8))\n",
    "sns.barplot(x=feature_importances_tuned_rf_sorted.head(15).values, y=feature_importances_tuned_rf_sorted.head(15).index, palette='viridis')\n",
    "plt.title('Top 15 Feature Importances (Tuned Random Forest)', fontsize=16)\n",
    "plt.xlabel('Importance', fontsize=12)\n",
    "plt.ylabel('Feature', fontsize=12)\n",
    "plt.tight_layout()\n",
    "plt.savefig('tuned_random_forest_feature_importances.png')\n",
    "plt.show()\n"
   ]
  },
  {
   "cell_type": "markdown",
   "id": "45b05ea6",
   "metadata": {},
   "source": [
    "Recommendations\n",
    "\n",
    "\n",
    "1- Focus on customer tenure, total charges, and monthly charges:\n",
    "The significant impact of each of these factors on customer churn, especially for new customers, warrants special attention for new customers or customers with high monthly charges but low total charges, as they are the most vulnerable to churn.\n",
    "\n",
    "2- Importance of contract type:\n",
    "It can be noted that customers with short-term contracts are more vulnerable to churn. The attractiveness of long-term contracts can be increased as the company deems appropriate.\n",
    "\n",
    "3- Fiber optic cable service:\n",
    "Although the service is advanced and supposed to be an attractive factor, it poses a serious risk of churn. The quality of the service, its prices, the competitive market, as well as the maintenance and associated services should be reviewed.\n",
    "\n",
    "It may be best to study the entire service to identify the causes of the discrepancy.\n",
    "\n",
    "4- Electronic Checks as a Payment Method:\n",
    "The results demonstrate that this service is associated with an increased dropout rate. This requires further study to determine the reason for this association, whether there is a problem with the service, the suitability of alternative services, and whether alternatives exist and should be encouraged.\n",
    "\n",
    "5- Online Security and Technical Support Services:\n",
    "Customers who subscribe to security and technical support services are less likely to drop out. These services should be encouraged more, and awareness of their importance should be raised.\n",
    "\n",
    "6- Balancing Recall and Precision in Intervention:\n",
    "\n",
    "Our model achieved a very high Recall (0.78) compared to Precision (0.51).\n",
    "\n",
    "Recommendation: This means that the company will detect 78% of customers who will actually drop out, which is excellent. However, approximately 49% of customers predicted to drop out by the model will not actually drop out (false alarms). An intervention strategy (such as phone calls or special offers) should be designed to be cost-effective, as it will be applied to a significant number of customers who will not churn. A company can focus on low-cost interventions for false alarms (such as emails or text messages) and allocate more expensive interventions (such as personal calls or significant discounts) to customers with a very high churn probability based on the model's predicted likelihood score."
   ]
  },
  {
   "cell_type": "markdown",
   "id": "7fa56b08",
   "metadata": {},
   "source": []
  }
 ],
 "metadata": {
  "kernelspec": {
   "display_name": "Python 3",
   "language": "python",
   "name": "python3"
  },
  "language_info": {
   "codemirror_mode": {
    "name": "ipython",
    "version": 3
   },
   "file_extension": ".py",
   "mimetype": "text/x-python",
   "name": "python",
   "nbconvert_exporter": "python",
   "pygments_lexer": "ipython3",
   "version": "3.13.3"
  }
 },
 "nbformat": 4,
 "nbformat_minor": 5
}
